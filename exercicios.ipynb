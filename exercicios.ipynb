{
 "cells": [
  {
   "cell_type": "markdown",
   "metadata": {},
   "source": [
    "# Exercícios de Nível Médio: While, For e Funções em Python\n",
    "\n",
    "Este notebook contém **30 exercícios** de nível médio para praticar **while**, **for** e **funções** em Python. Cada exercício inclui uma descrição, exemplos de entrada e saída esperada, e um espaço para você escrever o código. Os exercícios são voltados para alunos com conhecimento básico, mas com desafios um pouco mais complexos, como lógica combinada, listas e condições. Vamos praticar!"
   ]
  },
  {
   "cell_type": "markdown",
   "metadata": {},
   "source": [
    "## Exercício 1 - Contagem de números primos com While\n",
    "Use um loop **while** para contar quantos números primos há entre 1 e um número n fornecido pelo usuário.\n",
    "\n",
    "**Entrada esperada:** Um número inteiro n (ex: 20)\n",
    "**Saída esperada:** Quantidade de primos até n (ex: 8)"
   ]
  },
  {
   "cell_type": "code",
   "execution_count": 1,
   "metadata": {},
   "outputs": [
    {
     "ename": "ValueError",
     "evalue": "invalid literal for int() with base 10: ''",
     "output_type": "error",
     "traceback": [
      "\u001b[31m---------------------------------------------------------------------------\u001b[39m",
      "\u001b[31mValueError\u001b[39m                                Traceback (most recent call last)",
      "\u001b[36mCell\u001b[39m\u001b[36m \u001b[39m\u001b[32mIn[1]\u001b[39m\u001b[32m, line 9\u001b[39m\n\u001b[32m      7\u001b[39m             \u001b[38;5;28;01mreturn\u001b[39;00m \u001b[38;5;28;01mFalse\u001b[39;00m\n\u001b[32m      8\u001b[39m         \u001b[38;5;28;01mreturn\u001b[39;00m \u001b[38;5;28;01mTrue\u001b[39;00m\n\u001b[32m----> \u001b[39m\u001b[32m9\u001b[39m primo(n= \u001b[38;5;28;43mint\u001b[39;49m\u001b[43m(\u001b[49m\u001b[38;5;28;43minput\u001b[39;49m\u001b[43m(\u001b[49m\u001b[33;43m\"\u001b[39;49m\u001b[33;43mdigita numero 1: \u001b[39;49m\u001b[33;43m\"\u001b[39;49m\u001b[43m)\u001b[49m\u001b[43m)\u001b[49m)\n\u001b[32m     10\u001b[39m \u001b[38;5;28;01mdef\u001b[39;00m\u001b[38;5;250m \u001b[39m\u001b[34mcontar\u001b[39m(lim):\n\u001b[32m     11\u001b[39m     nat = \u001b[38;5;28mint\u001b[39m(\u001b[38;5;28minput\u001b[39m(\u001b[33m\"\u001b[39m\u001b[33mdigita numero necessário: \u001b[39m\u001b[33m\"\u001b[39m))\n",
      "\u001b[31mValueError\u001b[39m: invalid literal for int() with base 10: ''"
     ]
    }
   ],
   "source": [
    "def primo(n):\n",
    "\n",
    "    if n <= 1:\n",
    "        return False\n",
    "    for i in range(2, int(n**0.5)+1):\n",
    "        if n % i == 0:\n",
    "            return False\n",
    "        return True\n",
    "primo(n= int(input(\"digita numero 1: \")))\n",
    "def contar(lim):\n",
    "    nat = int(input(\"digita numero necessário: \"))\n",
    "    while nat <= lim:\n",
    "        con = 0\n",
    "        if primo(nat):\n",
    "                con +=1\n",
    "        nat +=1\n",
    "    return con\n",
    "        \n",
    "contar(lim=int(input(\"limite: \")))\n",
    "\n",
    "\n"
   ]
  },
  {
   "cell_type": "markdown",
   "metadata": {},
   "source": [
    "## Exercício 2 - Soma de dígitos com While\n",
    "Escreva um programa que use **while** para calcular a soma dos dígitos de um número fornecido.\n",
    "\n",
    "**Entrada esperada:** Um número inteiro (ex: 12345)\n",
    "**Saída esperada:** Soma dos dígitos (ex: 15)"
   ]
  },
  {
   "cell_type": "code",
   "execution_count": 4,
   "metadata": {},
   "outputs": [
    {
     "name": "stdout",
     "output_type": "stream",
     "text": [
      "Soma: 136.0\n"
     ]
    }
   ],
   "source": [
    "numero=int(input(\"numeros: \"))\n",
    "soma = 0\n",
    "while numero > 0:\n",
    "    tot = numero % 10\n",
    "    numero = (numero - tot)/10\n",
    "    soma = soma + numero\n",
    "print(\"Soma:\",soma)\n",
    "\n"
   ]
  },
  {
   "cell_type": "markdown",
   "metadata": {},
   "source": [
    "## Exercício 3 - Jogo de adivinhação com While\n",
    "Crie um jogo onde o programa gera um número aleatório entre 1 e 100, e o usuário tenta adivinhar usando **while**, com dicas de 'maior' ou 'menor'.\n",
    "\n",
    "**Entrada esperada:** Tentativas do usuário (ex: 50, 75, 60)\n",
    "**Saída esperada:** Dicas e 'Acertou!' no final, com número de tentativas."
   ]
  },
  {
   "cell_type": "code",
   "execution_count": 56,
   "metadata": {},
   "outputs": [
    {
     "name": "stdout",
     "output_type": "stream",
     "text": [
      "o numero escolhido pela maquina foi: 99\n",
      "voce conseguiu depois de 0 tentativas!\n"
     ]
    }
   ],
   "source": [
    "import random\n",
    "\n",
    "adv = random.randint(1,100)\n",
    "res = int(input(\"advinhe um numero!: \"))\n",
    "tent = 0\n",
    "while res != adv:\n",
    "    tent += 1\n",
    "    res = int(input(\"advinhe um numero!: \"))\n",
    "    if res > adv:\n",
    "        print(\"Menor\")\n",
    "    elif res < adv:\n",
    "        print(\"Maior\")\n",
    "    else:\n",
    "        break\n",
    "print(f\"o numero escolhido pela maquina foi: {adv}\")\n",
    "print(f\"voce conseguiu depois de {tent} tentativas!\")\n"
   ]
  },
  {
   "cell_type": "markdown",
   "metadata": {},
   "source": [
    "## Exercício 4 - Sequência de Fibonacci com While\n",
    "Gere a sequência de Fibonacci até um limite n usando **while**.\n",
    "\n",
    "**Entrada esperada:** Limite n (ex: 50)\n",
    "**Saída esperada:** Sequência (ex: [0, 1, 1, 2, 3, 5, 8, 13, 21, 34])"
   ]
  },
  {
   "cell_type": "code",
   "execution_count": 20,
   "metadata": {},
   "outputs": [
    {
     "name": "stdout",
     "output_type": "stream",
     "text": [
      "0 1 1 2 3 5 8 13 21 34 "
     ]
    }
   ],
   "source": [
    "a, b = 0,1\n",
    "cont = 0\n",
    "n=10\n",
    "while cont < n:\n",
    "    print(a, end=' ')\n",
    "    a, b = b, a + b\n",
    "    cont += 1"
   ]
  },
  {
   "cell_type": "markdown",
   "metadata": {},
   "source": [
    "## Exercício 5 - Inversão de número com While\n",
    "Inverta os dígitos de um número usando **while**.\n",
    "\n",
    "**Entrada esperada:** Número (ex: 1234)\n",
    "**Saída esperada:** Número invertido (ex: 4321)"
   ]
  },
  {
   "cell_type": "code",
   "execution_count": 72,
   "metadata": {},
   "outputs": [
    {
     "name": "stdout",
     "output_type": "stream",
     "text": [
      "4321\n"
     ]
    }
   ],
   "source": [
    "num = 1234\n",
    "inv = 0\n",
    "while num > 0:\n",
    "    dig = num % 10\n",
    "    inv = inv * 10 + dig\n",
    "    num = num // 10\n",
    "\n",
    "print(inv)"
   ]
  },
  {
   "cell_type": "markdown",
   "metadata": {},
   "source": [
    "## Exercício 6 - Contagem de vogais em string com For\n",
    "Conte o número de vogais em uma string usando **for**.\n",
    "\n",
    "**Entrada esperada:** Uma string (ex: 'programacao em python')\n",
    "**Saída esperada:** Número de vogais (ex: 8)"
   ]
  },
  {
   "cell_type": "code",
   "execution_count": 21,
   "metadata": {},
   "outputs": [
    {
     "name": "stdout",
     "output_type": "stream",
     "text": [
      "Número de vogais: 2\n"
     ]
    }
   ],
   "source": [
    "pav = input(\"diga algo: \")\n",
    "vogais = \"aeiouAEIOU\"\n",
    "cont = 0\n",
    "for letra in pav:\n",
    "    if letra in vogais:\n",
    "        cont += 1\n",
    "print(\"Número de vogais:\", cont)"
   ]
  },
  {
   "cell_type": "markdown",
   "metadata": {},
   "source": [
    "## Exercício 7 - Matriz transposta com For\n",
    "Transponha uma matriz 2D usando loops **for** aninhados.\n",
    "\n",
    "**Entrada esperada:** Matriz [[1,2,3],[4,5,6]]\n",
    "**Saída esperada:** Matriz transposta [[1,4],[2,5],[3,6]]"
   ]
  },
  {
   "cell_type": "code",
   "execution_count": null,
   "metadata": {},
   "outputs": [
    {
     "name": "stdout",
     "output_type": "stream",
     "text": [
      "[[1, 4], [2, 5], [3, 6]]\n"
     ]
    }
   ],
   "source": [
    "a = [[1,2,3], [4,5,6]]\n",
    "trans = list(map(lambda *i: [j for j in i], *a))\n",
    "print(trans)\n",
    "\n",
    "#era so isso? meia hora pra 3 linhas?\n"
   ]
  },
  {
   "cell_type": "markdown",
   "metadata": {},
   "source": [
    "## Exercício 8 - Ordenação bubble sort com For\n",
    "Implemente o bubble sort usando **for** aninhados.\n",
    "\n",
    "**Entrada esperada:** Lista [5,3,8,6,7,2]\n",
    "**Saída esperada:** Lista ordenada [2,3,5,6,7,8]"
   ]
  },
  {
   "cell_type": "code",
   "execution_count": null,
   "metadata": {},
   "outputs": [
    {
     "name": "stdout",
     "output_type": "stream",
     "text": [
      "[3, 5, 8, 6, 7, 2]\n",
      "[3, 5, 6, 8, 7, 2]\n",
      "[3, 5, 6, 7, 8, 2]\n",
      "[3, 5, 6, 7, 2, 8]\n",
      "[3, 5, 6, 2, 7, 8]\n",
      "[3, 5, 2, 6, 7, 8]\n",
      "[3, 2, 5, 6, 7, 8]\n",
      "[2, 3, 5, 6, 7, 8]\n"
     ]
    },
    {
     "data": {
      "text/plain": [
       "[2, 3, 5, 6, 7, 8]"
      ]
     },
     "execution_count": 36,
     "metadata": {},
     "output_type": "execute_result"
    }
   ],
   "source": [
    "def sort(lista):\n",
    "    elem = len(lista)-1\n",
    "    ord = False\n",
    "    while not ord:\n",
    "        ord = True\n",
    "        for i in range(elem):\n",
    "            if lista[i] > lista[i+1]:\n",
    "                lista[i], lista[i+1] = lista[i+1],lista[i]\n",
    "                ord = False        \n",
    "                print(lista)\n",
    "    return lista\n",
    "sort([5,3,8,6,7,2])"
   ]
  },
  {
   "cell_type": "markdown",
   "metadata": {},
   "source": [
    "## Exercício 9 - Geração de triângulo de Pascal com For\n",
    "Gere as primeiras n linhas do triângulo de Pascal usando **for**.\n",
    "\n",
    "**Entrada esperada:** n (ex: 5)\n",
    "**Saída esperada:** Linhas do triângulo"
   ]
  },
  {
   "cell_type": "code",
   "execution_count": null,
   "metadata": {},
   "outputs": [
    {
     "name": "stdout",
     "output_type": "stream",
     "text": [
      "      1\n",
      "     1 1\n",
      "    1 2 1\n",
      "   1 3 3 1\n",
      "  1 4 6 4 1\n"
     ]
    }
   ],
   "source": [
    "n = 5\n",
    "for i in range(1, n+1):\n",
    "    for j in range(0, n-i+1):\n",
    "        print(' ', end='')\n",
    "    c = 1\n",
    "    for j in range(1, i+1):\n",
    "        print(' ', c, sep='', end='')\n",
    "        c = c * (i - j) // j\n",
    "    print()\n",
    "    \n",
    "    #porque deussss\n",
    "        "
   ]
  },
  {
   "cell_type": "markdown",
   "metadata": {},
   "source": [
    "## Exercício 10 - Busca binária com For\n",
    "Implemente uma busca binária em uma lista ordenada usando **for** (ou while, mas prefira for se possível).\n",
    "\n",
    "**Entrada esperada:** Lista ordenada e valor (ex: [1,3,5,7,9], 5)\n",
    "**Saída esperada:** Índice ou -1 (ex: 2)"
   ]
  },
  {
   "cell_type": "code",
   "execution_count": null,
   "metadata": {},
   "outputs": [
    {
     "data": {
      "text/plain": [
       "2"
      ]
     },
     "execution_count": 27,
     "metadata": {},
     "output_type": "execute_result"
    }
   ],
   "source": [
    "def depressao(li, val):\n",
    "    inicio = 0\n",
    "    fim = len(li) - 1\n",
    "    \n",
    "    for i in range(len(li)):\n",
    "        meio = (inicio + fim) // 2\n",
    "        if li[meio] == val:\n",
    "            return meio\n",
    "        elif li[meio] < val:\n",
    "            inicio = meio + 1\n",
    "        else:\n",
    "            fim = meio - 1\n",
    "        \n",
    "        if inicio > fim:\n",
    "            break\n",
    "        \n",
    "    return -1\n",
    "depressao([1,3,5,7,9], 5)\n",
    "\n",
    "\n",
    "    "
   ]
  },
  {
   "cell_type": "markdown",
   "metadata": {},
   "source": [
    "## Exercício 11 - Função para calcular MDC\n",
    "Crie uma função que calcule o MDC de dois números usando algoritmo de Euclides.\n",
    "\n",
    "**Entrada esperada:** Dois números (ex: 48, 18)\n",
    "**Saída esperada:** MDC (ex: 6)"
   ]
  },
  {
   "cell_type": "code",
   "execution_count": 28,
   "metadata": {},
   "outputs": [
    {
     "name": "stdout",
     "output_type": "stream",
     "text": [
      "o mdc entre 48 e 18 é 6\n"
     ]
    }
   ],
   "source": [
    "import math as m \n",
    "\n",
    "n1 = 48\n",
    "n2 = 18\n",
    "mdc = m.gcd(n1,n2)\n",
    "print(f\"o mdc entre {n1} e {n2} é {mdc}\")"
   ]
  },
  {
   "cell_type": "markdown",
   "metadata": {},
   "source": [
    "## Exercício 12 - Função recursiva para fatorial\n",
    "Implemente o fatorial usando recursão.\n",
    "\n",
    "**Entrada esperada:** Número (ex: 5)\n",
    "**Saída esperada:** Fatorial (ex: 120)"
   ]
  },
  {
   "cell_type": "code",
   "execution_count": null,
   "metadata": {},
   "outputs": [
    {
     "name": "stdout",
     "output_type": "stream",
     "text": [
      "o fatorial de 5 é 120\n"
     ]
    }
   ],
   "source": [
    "n = 5\n",
    "fat = 1\n",
    "for i in range(1, n+1):\n",
    "    fat = fat * i\n",
    "print(f\"o fatorial de {n} é {fat}\")\n",
    "#jogaço"
   ]
  },
  {
   "cell_type": "markdown",
   "metadata": {},
   "source": [
    "## Exercício 13 - Função para verificar palíndromo\n",
    "Crie uma função que verifique se uma string é palíndromo.\n",
    "\n",
    "**Entrada esperada:** String (ex: 'radar')\n",
    "**Saída esperada:** True ou False (ex: True)"
   ]
  },
  {
   "cell_type": "code",
   "execution_count": null,
   "metadata": {},
   "outputs": [
    {
     "name": "stdout",
     "output_type": "stream",
     "text": [
      "True\n"
     ]
    }
   ],
   "source": [
    "pav = \"radar\"\n",
    "pal = pav[::-1]\n",
    "if pav == pal:\n",
    "    palindromo = True #sorte minha de ter lembrado da classificação\n",
    "else:\n",
    "    palindromo = False\n",
    "print(palindromo)\n",
    "#VAMOOOOOOOO"
   ]
  },
  {
   "cell_type": "markdown",
   "metadata": {},
   "source": [
    "## Exercício 14 - Função com parâmetros default para potência\n",
    "Crie uma função potência com base default 2.\n",
    "\n",
    "**Entrada esperada:** Número e expoente opcional (ex: 3, 4)\n",
    "**Saída esperada:** Resultado (ex: 81)"
   ]
  },
  {
   "cell_type": "code",
   "execution_count": 44,
   "metadata": {},
   "outputs": [
    {
     "name": "stdout",
     "output_type": "stream",
     "text": [
      "Com pow:  81\n",
      "Sem pow:  81\n"
     ]
    }
   ],
   "source": [
    "exp = pow(3, 4)\n",
    "print(\"Com pow: \",exp)\n",
    "#----------------------------#\n",
    "exp1 = 3 ** 4\n",
    "print(\"Sem pow: \", exp1)\n",
    "\n",
    "#pow é mais rapido que \"**\"\" e focado em listas e tuplas, mas para numeros simples é indiferente"
   ]
  },
  {
   "cell_type": "markdown",
   "metadata": {},
   "source": [
    "## Exercício 15 - Função que retorna múltiplos valores\n",
    "Crie uma função que divida dois números e retorne quociente e resto.\n",
    "\n",
    "**Entrada esperada:** Dois números (ex: 10, 3)\n",
    "**Saída esperada:** (3, 1)"
   ]
  },
  {
   "cell_type": "code",
   "execution_count": null,
   "metadata": {},
   "outputs": [
    {
     "name": "stdout",
     "output_type": "stream",
     "text": [
      "3, 1\n"
     ]
    }
   ],
   "source": [
    "def divi(c1, c2):\n",
    "    quo, resto =divmod(c1, c2) #divmod retorna o quociente e o resto da divisão, sendo mais prático que fazer a conta \"manualmente\" com \"//\" e \"%\"\n",
    "    print(f\"{quo}\" \",\",resto)\n",
    "divi(10, 3)   \n",
    "    "
   ]
  },
  {
   "cell_type": "markdown",
   "metadata": {},
   "source": [
    "## Exercício 16 - List Comprehension para matriz\n",
    "Crie uma matriz 3x3 com números sequenciais usando list comprehension.\n",
    "\n",
    "**Entrada esperada:** Nenhuma\n",
    "**Saída esperada:** [[1,2,3],[4,5,6],[7,8,9]]"
   ]
  },
  {
   "cell_type": "code",
   "execution_count": null,
   "metadata": {},
   "outputs": [
    {
     "name": "stdout",
     "output_type": "stream",
     "text": [
      "[[1 4 7]\n",
      " [2 5 8]\n",
      " [3 6 9]]\n"
     ]
    }
   ],
   "source": [
    "\n",
    "import numpy as np #numpy é uma biblioteca especialmente útil para manipulação de arrays e matrizes\n",
    "matriz = [[1, 2, 3], [4, 5, 6], [7, 8, 9]]\n",
    "transposta = np.transpose(matriz)\n",
    "print(transposta)"
   ]
  },
  {
   "cell_type": "markdown",
   "metadata": {},
   "source": [
    "## Exercício 17 - List Comprehension com filtro avançado\n",
    "Filtre números primos em uma faixa usando list comprehension.\n",
    "\n",
    "**Entrada esperada:** Faixa (ex: 20)\n",
    "**Saída esperada:** Lista de primos (ex: [2,3,5,7,11,13,17,19])"
   ]
  },
  {
   "cell_type": "code",
   "execution_count": null,
   "metadata": {},
   "outputs": [
    {
     "name": "stdout",
     "output_type": "stream",
     "text": [
      "[2, 3, 5, 7, 11, 13, 17, 19]\n"
     ]
    }
   ],
   "source": [
    "num = 20\n",
    "lista = []\n",
    "primos = []\n",
    "for i in range(2, num + 1):\n",
    "    eh_primo = True\n",
    "    for j in range(2, int(i**0.5) + 1):\n",
    "        if i % j == 0:\n",
    "            eh_primo = False\n",
    "            break\n",
    "    if eh_primo:\n",
    "        primos.append(i)\n",
    "print(primos)\n",
    "\n",
    "#socorro"
   ]
  },
  {
   "cell_type": "markdown",
   "metadata": {},
   "source": [
    "## Exercício 18 - Combinando While e For\n",
    "Use **while** para pedir números e **for** para somar pares em uma lista.\n",
    "\n",
    "**Entrada esperada:** Números até 0\n",
    "**Saída esperada:** Soma dos pares"
   ]
  },
  {
   "cell_type": "code",
   "execution_count": null,
   "metadata": {},
   "outputs": [
    {
     "name": "stdout",
     "output_type": "stream",
     "text": [
      "A soma dos divisores de 10 é 90\n"
     ]
    }
   ],
   "source": [
    "num = 0\n",
    "while num <= 0:\n",
    "    num = int(input(\"numero: \"))\n",
    "    for i in range(1, num + 1):\n",
    "        if num % i == 0:\n",
    "            lista.append(i)\n",
    "    if num <= 0:\n",
    "        print(\"Nao pode\")\n",
    "soma = sum(lista)\n",
    "print(f\"a soma dos divisores de {num} é {soma}\")    "
   ]
  },
  {
   "cell_type": "markdown",
   "metadata": {},
   "source": [
    "## Exercício 19 - Função com While para validação\n",
    "Função que valida entrada de usuário com **while** até ser válida.\n",
    "\n",
    "**Entrada esperada:** Entradas inválidas até válida\n",
    "**Saída esperada:** Valor válido"
   ]
  },
  {
   "cell_type": "code",
   "execution_count": 77,
   "metadata": {},
   "outputs": [],
   "source": [
    "usuario = input(\"digite seu nome de usuario: \")\n",
    "senha = input(\"digite sua senha: \")\n",
    "while usuario == senha:\n",
    "    print(\"senha igual ao usuario, digite novamente\")\n",
    "    senha = input(\"digite sua senha: \")\n",
    "    if usuario != senha:\n",
    "        print(\"senha aceita\")\n",
    "        break\n",
    "    elif usuario != senha:\n",
    "        print(\"senha aceita\")\n",
    "        break  \n",
    "    else:\n",
    "        continue\n",
    "    "
   ]
  },
  {
   "cell_type": "markdown",
   "metadata": {},
   "source": [
    "## Exercício 20 - For com Enumerate para modificar lista\n",
    "Use **enumerate** em **for** para modificar elementos de uma lista.\n",
    "\n",
    "**Entrada esperada:** Lista (ex: [1,2,3])\n",
    "**Saída esperada:** Lista modificada (ex: [2,4,6])"
   ]
  },
  {
   "cell_type": "code",
   "execution_count": null,
   "metadata": {},
   "outputs": [
    {
     "name": "stdout",
     "output_type": "stream",
     "text": [
      "(2, 4, 6)\n",
      "(2, 4, 6)\n",
      "(2, 4, 6)\n"
     ]
    }
   ],
   "source": [
    "a,b,c = [1,2,3]\n",
    "lista = a,b,c\n",
    "for li in enumerate(lista):\n",
    "    li = (a + a, b + b , c + c)\n",
    "    print(li)    #naosei como que deixa pra printar so uma vez\n",
    "    \n"
   ]
  },
  {
   "cell_type": "markdown",
   "metadata": {},
   "source": [
    "## Exercício 21 - Função com Zip para combinar dicionários\n",
    "Combine duas listas em um dicionário usando **zip** em função.\n",
    "\n",
    "**Entrada esperada:** Duas listas\n",
    "**Saída esperada:** Dicionário"
   ]
  },
  {
   "cell_type": "code",
   "execution_count": null,
   "metadata": {},
   "outputs": [
    {
     "name": "stdout",
     "output_type": "stream",
     "text": [
      "[(1, 4), (2, 5), (3, 6)]\n"
     ]
    }
   ],
   "source": [
    "li1 = [1,2,3]\n",
    "li2 = [4,5,6]\n",
    "zipado = list(zip(li1, li2))\n",
    "print(zipado) #assim? nao lembro disso nao fessor"
   ]
  },
  {
   "cell_type": "markdown",
   "metadata": {},
   "source": [
    "## Exercício 22 - While com Break em jogo\n",
    "Jogo de dados com **while** e **break** quando atinge pontuação.\n",
    "\n",
    "**Entrada esperada:** Simulações\n",
    "**Saída esperada:** Pontuação final"
   ]
  },
  {
   "cell_type": "code",
   "execution_count": null,
   "metadata": {},
   "outputs": [
    {
     "name": "stdout",
     "output_type": "stream",
     "text": [
      "chute invalido, tente de novo\n",
      "voce errou, muito ruim plmds, seus pontos sao 0\n",
      "voce errou, muito ruim plmds, seus pontos sao 0\n",
      "voce errou, muito ruim plmds, seus pontos sao 0\n",
      "voce errou, muito ruim plmds, seus pontos sao 0\n",
      "voce errou, muito ruim plmds, seus pontos sao 0\n",
      "voce errou, muito ruim plmds, seus pontos sao 0\n",
      "voce errou, muito ruim plmds, seus pontos sao 0\n",
      "voce errou, muito ruim plmds, seus pontos sao 0\n",
      "voce errou, muito ruim plmds, seus pontos sao 0\n",
      "chute invalido, tente de novo\n",
      "voce errou, muito ruim plmds, seus pontos sao 0\n",
      "seus pontos finais sao 0 com 10 jogadas, decepção total\n"
     ]
    }
   ],
   "source": [
    "import random\n",
    "\n",
    "dado = {1, 2, 3, 4, 5, 6, 7, 8, 9, 10}\n",
    "jogada = 0\n",
    "pontos = 0\n",
    "lancamento = random.choice(list(dado))\n",
    "while jogada < 10:\n",
    "    jogada += 1\n",
    "    chute = int(input(\"chuta um numero de 1 a 10: \"))\n",
    "    if chute < 1 or chute > 10:\n",
    "        print(\"chute invalido, tente de novo\")\n",
    "        jogada -= 1\n",
    "        continue\n",
    "    if chute == lancamento:\n",
    "        pontos += 1\n",
    "        nova_escolha = random.choice(list(dado))\n",
    "        lancamento = nova_escolha\n",
    "        print(f\"voce acertou na cagada, seus pontos sao {pontos}\")\n",
    "    else:\n",
    "        print(f\"voce errou, muito ruim plmds, seus pontos sao {pontos}\")\n",
    "print(f\"seus pontos finais sao {pontos} com {jogada} jogadas, decepção total\")\n",
    "\n",
    "#isso é bem divertido ,espero que eu tenha feito certo\n"
   ]
  },
  {
   "cell_type": "markdown",
   "metadata": {},
   "source": [
    "## Exercício 23 - For com Continue para filtrar\n",
    "Filtre e some números exceto múltiplos de 3 usando **continue**.\n",
    "\n",
    "**Entrada esperada:** Lista\n",
    "**Saída esperada:** Soma filtrada"
   ]
  },
  {
   "cell_type": "code",
   "execution_count": null,
   "metadata": {},
   "outputs": [
    {
     "name": "stdout",
     "output_type": "stream",
     "text": [
      "12\n"
     ]
    }
   ],
   "source": [
    "num = [1, 2, 3, 4, 5]\n",
    "soma = 0\n",
    "for n in num:\n",
    "    if n % 3 == 0:\n",
    "        continue\n",
    "    soma += n\n",
    "print(soma)\n",
    "        #porque as coisas sao mais simples quando eu penso que são mais complexas, e coisas que eu acho mais simples são mais complexas?"
   ]
  },
  {
   "cell_type": "markdown",
   "metadata": {},
   "source": [
    "## Exercício 24 - Função lambda em sorted\n",
    "Ordene uma lista de tuplas por segundo elemento usando lambda.\n",
    "\n",
    "**Entrada esperada:** Lista de tuplas\n",
    "**Saída esperada:** Lista ordenada"
   ]
  },
  {
   "cell_type": "code",
   "execution_count": null,
   "metadata": {},
   "outputs": [
    {
     "name": "stdout",
     "output_type": "stream",
     "text": [
      "[1, 2, 3, 4, 8, 9, 10]\n"
     ]
    }
   ],
   "source": [
    "li = ([1, 4, 3, 9, 2, 10, 8])\n",
    "lambda li: sorted(li)\n",
    "print(sorted(li))"
   ]
  },
  {
   "cell_type": "markdown",
   "metadata": {},
   "source": [
    "## Exercício 25 - Recursão para soma de lista\n",
    "Some elementos de uma lista usando recursão.\n",
    "\n",
    "**Entrada esperada:** Lista\n",
    "**Saída esperada:** Soma"
   ]
  },
  {
   "cell_type": "code",
   "execution_count": 34,
   "metadata": {},
   "outputs": [
    {
     "name": "stdout",
     "output_type": "stream",
     "text": [
      "[2, 4, 6]\n"
     ]
    }
   ],
   "source": [
    "li = [1,2,3]\n",
    "for i in range(len(li)):\n",
    "    li[i] = li[i] * 2\n",
    "print(li)"
   ]
  },
  {
   "cell_type": "markdown",
   "metadata": {},
   "source": [
    "## Exercício 26 - List Comprehension aninhada\n",
    "Aplane uma lista de listas usando list comprehension.\n",
    "\n",
    "**Entrada esperada:** [[1,2],[3,4]]\n",
    "**Saída esperada:** [1,2,3,4]"
   ]
  },
  {
   "cell_type": "code",
   "execution_count": null,
   "metadata": {},
   "outputs": [
    {
     "name": "stdout",
     "output_type": "stream",
     "text": [
      "[1, 2, 3, 4]\n"
     ]
    }
   ],
   "source": [
    "li = [[1,2],[3,4]]\n",
    "print(li[0] + li[1]) #esse [] sao deveras interessantes, espero que eu lembre de usar isso direito se nao perco tempo\n"
   ]
  },
  {
   "cell_type": "markdown",
   "metadata": {},
   "source": [
    "## Exercício 27 - While para simulação de banco\n",
    "Simule um menu de banco com **while** e opções.\n",
    "\n",
    "**Entrada esperada:** Opções do usuário\n",
    "**Saída esperada:** Operações realizadas"
   ]
  },
  {
   "cell_type": "code",
   "execution_count": 41,
   "metadata": {},
   "outputs": [
    {
     "name": "stdout",
     "output_type": "stream",
     "text": [
      "--BANCO AFE--\n",
      "seja bem vindo usuário (comrade_gm), seu saldo é R$0\n",
      "usuário (comrade_gm) | voce guardou R$6543.0, seu saldo é R$6543.0\n",
      "usuário (comrade_gm) sacou R$3090.0, seu saldo é 3453.0\n",
      "usuário (comrade_gm) | seu saldo é R$3453.0\n",
      "saindo...\n"
     ]
    }
   ],
   "source": [
    "usuario = input(\"usuario: \")\n",
    "operacao = input(\"1 - guardar dinheiro, 2 - sacar dinheiro, 3 - ver saldo, 0 - sair: \")\n",
    "saldo = 0\n",
    "print(\"--BANCO AFE--\")\n",
    "print(f\"seja bem vindo usuário ({usuario}), seu saldo é R${saldo}\")\n",
    "while operacao in ['1', '2', '3']:\n",
    "    if operacao == '1':\n",
    "        valor = float(input(\"valor a guardar: \"))\n",
    "        if valor > 0:\n",
    "            saldo += valor\n",
    "            print(f\"usuário ({usuario}) | voce guardou R${valor}, seu saldo é R${saldo}\")\n",
    "        else:\n",
    "            print(\"valor invalido\")\n",
    "    elif operacao == '2':\n",
    "        valor = float(input(\"valor a sacar: \"))\n",
    "        if 0 < valor <= saldo:\n",
    "            saldo -= valor\n",
    "            print(f\"usuário ({usuario}) sacou R${valor}, seu saldo é {saldo}\")\n",
    "        else:\n",
    "            print(\"saldo insuficiente ou valor invalido\")\n",
    "    elif operacao == '3':\n",
    "        print(f\"usuário ({usuario}) | seu saldo é R${saldo}\")\n",
    "        \n",
    "    operacao = input(\"1 - guardar dinheiro, 2 - sacar dinheiro, 3 - ver saldo, 0 - sair: \")\n",
    "    if operacao == '0':\n",
    "        print(\"saindo...\")\n",
    "        break\n",
    "    "
   ]
  },
  {
   "cell_type": "markdown",
   "metadata": {},
   "source": [
    "## Exercício 28 - For para gerar permutações simples\n",
    "Gere permutações de 3 elementos usando **for** aninhados.\n",
    "\n",
    "**Entrada esperada:** Lista de 3 itens\n",
    "**Saída esperada:** Lista de permutações"
   ]
  },
  {
   "cell_type": "code",
   "execution_count": null,
   "metadata": {},
   "outputs": [
    {
     "name": "stdout",
     "output_type": "stream",
     "text": [
      "[(1, 2, 3), (1, 3, 2), (2, 1, 3), (2, 3, 1), (3, 1, 2), (3, 2, 1)]\n"
     ]
    }
   ],
   "source": [
    "import itertools as it #a biblioteca itertools fornece funções para criar iteradores (se vou lembrar disso nao hora? naosei)\n",
    "\n",
    "li = [1,2,3]\n",
    "for per in range(len(li)):\n",
    "    per = it.permutations(li)\n",
    "print(list(per)) \n",
    "    "
   ]
  },
  {
   "cell_type": "markdown",
   "metadata": {},
   "source": [
    "## Exercício 29 - Função para criptografia simples\n",
    "Crie uma função de cifra de César.\n",
    "\n",
    "**Entrada esperada:** String e shift (ex: 'abc', 3)\n",
    "**Saída esperada:** String cifrada (ex: 'def')"
   ]
  },
  {
   "cell_type": "code",
   "execution_count": null,
   "metadata": {},
   "outputs": [
    {
     "name": "stdout",
     "output_type": "stream",
     "text": [
      "def\n"
     ]
    }
   ],
   "source": [
    "def cs(frase, des):\n",
    "    alfabeto = 'abcdefghijklmnopqrstuvwxyz'\n",
    "    afl_des = alfabeto[des:] + alfabeto[:des]\n",
    "    tab = str.maketrans(alfabeto, afl_des) #maketrans cria uma tabela de tradução entre os dois alfabetos\n",
    "    return frase.translate(tab)  #translate aplica a tabela de traduçao criada por maketrans\n",
    "print(cs('abc', 3))              # // com isso ambos se conectam\n",
    "\n",
    "#ah sla fessor, coloca esse exercicio nao"
   ]
  },
  {
   "cell_type": "markdown",
   "metadata": {},
   "source": [
    "## Exercício 30 - Combinando tudo em um programa\n",
    "Crie um programa que use função, while e for para processar uma lista de notas, calcular média e aprovar/reprovar.\n",
    "\n",
    "**Entrada esperada:** Lista de notas\n",
    "**Saída esperada:** Média e status"
   ]
  },
  {
   "cell_type": "code",
   "execution_count": 1,
   "metadata": {},
   "outputs": [
    {
     "name": "stdout",
     "output_type": "stream",
     "text": [
      "carlao: nota 4.0 - reprovado\n",
      "julia: nota 7.0 - aprovado\n",
      "ana: nota 6.0 - recuperação\n",
      "bia: nota 9.0 - aprovado\n",
      "carlos: nota 5.0 - recuperação\n",
      "debora: nota 8.0 - aprovado\n",
      "eduardo: nota 5.0 - recuperação\n",
      "fabio: nota 2.0 - reprovado\n",
      "gisele: nota 8.0 - aprovado\n",
      "helena: nota 2.0 - reprovado\n"
     ]
    }
   ],
   "source": [
    "def classificar():\n",
    "    li = [\n",
    "        ('carlao', 2, 4, 6),\n",
    "        ('julia', 5, 7, 9),\n",
    "        ('ana', 8, 6, 4),\n",
    "        ('bia', 10, 9, 8),\n",
    "        ('carlos', 4, 5, 6),\n",
    "        ('debora', 7, 8, 9),\n",
    "        ('eduardo', 6, 5, 4),\n",
    "        ('fabio', 3, 2, 1),\n",
    "        ('gisele', 9, 8, 7),\n",
    "        ('helena', 1, 2, 3)\n",
    "    ]\n",
    "    medias = [(nome, (nota1 + nota2 + nota3) / 3) for nome, nota1, nota2, nota3 in li]\n",
    "    li = [(nome, round(nota, 2)) for nome, nota in medias] #round arredonda a nota para 2 casas decimais\n",
    "    for nome, nota in li:\n",
    "        if nota < 5:\n",
    "            classi = \"reprovado\"\n",
    "        elif 5 <= nota < 7:\n",
    "            classi = \"recuperação\"\n",
    "        else:\n",
    "            classi = \"aprovado\"\n",
    "        print(f\"{nome}: nota {nota} - {classi}\")\n",
    "\n",
    "#simples mas longo, chaticeeeeeeaaaaaaaaaaaaaaaaaaaaaaaaaaaaa\n",
    "classificar()"
   ]
  }
 ],
 "metadata": {
  "kernelspec": {
   "display_name": "Python 3",
   "language": "python",
   "name": "python3"
  },
  "language_info": {
   "codemirror_mode": {
    "name": "ipython",
    "version": 3
   },
   "file_extension": ".py",
   "mimetype": "text/x-python",
   "name": "python",
   "nbconvert_exporter": "python",
   "pygments_lexer": "ipython3",
   "version": "3.11.9"
  }
 },
 "nbformat": 4,
 "nbformat_minor": 4
}
